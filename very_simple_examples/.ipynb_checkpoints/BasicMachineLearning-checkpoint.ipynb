{
 "cells": [
  {
   "cell_type": "markdown",
   "metadata": {},
   "source": [
    "# Basic Machine Learning - Notebook 1"
   ]
  },
  {
   "cell_type": "markdown",
   "metadata": {},
   "source": [
    "This notebook provides an overview of three basic machine learning models as well as basic data munging. A special focus is given to understanding and interpreting model results. More advanced concepts such as bifurcating data between training and testing sets, model scoring, optimization etc, will be covered in Notebooks 2+."
   ]
  },
  {
   "cell_type": "code",
   "execution_count": 31,
   "metadata": {
    "collapsed": true
   },
   "outputs": [],
   "source": [
    "# Import libraries\n",
    "import pandas as pd # pandas is used for manipulating data \n",
    "from sklearn.linear_model import LogisticRegression # Sklearn is a machine learning library\n",
    "from sklearn import tree \n",
    "from sklearn import svm\n",
    "# allow plots to be seen in this notebook\n",
    "% matplotlib inline "
   ]
  },
  {
   "cell_type": "code",
   "execution_count": 32,
   "metadata": {
    "collapsed": true
   },
   "outputs": [],
   "source": [
    "#import excel data\n",
    "ShoeData = pd.read_excel('SampleMLData.xlsx',sheetname = 'Train')"
   ]
  },
  {
   "cell_type": "code",
   "execution_count": 33,
   "metadata": {},
   "outputs": [
    {
     "data": {
      "text/html": [
       "<div>\n",
       "<table border=\"1\" class=\"dataframe\">\n",
       "  <thead>\n",
       "    <tr style=\"text-align: right;\">\n",
       "      <th></th>\n",
       "      <th>Height</th>\n",
       "      <th>Weight</th>\n",
       "      <th>Shoe_size</th>\n",
       "      <th>Classification</th>\n",
       "      <th>Unnamed: 4</th>\n",
       "    </tr>\n",
       "  </thead>\n",
       "  <tbody>\n",
       "    <tr>\n",
       "      <th>0</th>\n",
       "      <td>181</td>\n",
       "      <td>80</td>\n",
       "      <td>44</td>\n",
       "      <td>male</td>\n",
       "      <td>NaN</td>\n",
       "    </tr>\n",
       "    <tr>\n",
       "      <th>1</th>\n",
       "      <td>177</td>\n",
       "      <td>70</td>\n",
       "      <td>43</td>\n",
       "      <td>male</td>\n",
       "      <td>NaN</td>\n",
       "    </tr>\n",
       "    <tr>\n",
       "      <th>2</th>\n",
       "      <td>160</td>\n",
       "      <td>60</td>\n",
       "      <td>38</td>\n",
       "      <td>female</td>\n",
       "      <td></td>\n",
       "    </tr>\n",
       "    <tr>\n",
       "      <th>3</th>\n",
       "      <td>154</td>\n",
       "      <td>54</td>\n",
       "      <td>37</td>\n",
       "      <td>female</td>\n",
       "      <td>NaN</td>\n",
       "    </tr>\n",
       "    <tr>\n",
       "      <th>4</th>\n",
       "      <td>166</td>\n",
       "      <td>65</td>\n",
       "      <td>40</td>\n",
       "      <td>male</td>\n",
       "      <td>NaN</td>\n",
       "    </tr>\n",
       "  </tbody>\n",
       "</table>\n",
       "</div>"
      ],
      "text/plain": [
       "   Height  Weight  Shoe_size Classification Unnamed: 4\n",
       "0     181      80         44           male        NaN\n",
       "1     177      70         43           male        NaN\n",
       "2     160      60         38         female           \n",
       "3     154      54         37         female        NaN\n",
       "4     166      65         40           male        NaN"
      ]
     },
     "execution_count": 33,
     "metadata": {},
     "output_type": "execute_result"
    }
   ],
   "source": [
    "# review data\n",
    "ShoeData.head()"
   ]
  },
  {
   "cell_type": "code",
   "execution_count": 34,
   "metadata": {
    "collapsed": true
   },
   "outputs": [],
   "source": [
    "# Remove uneeded column\n",
    "del ShoeData['Unnamed: 4']"
   ]
  },
  {
   "cell_type": "code",
   "execution_count": 35,
   "metadata": {
    "collapsed": true
   },
   "outputs": [],
   "source": [
    "# Assign the 'answer' to the Y variable\n",
    "Y = ShoeData['Classification'].values\n",
    "\n",
    "# Now, remove the 'answer' column from the ShoeData \n",
    "del ShoeData['Classification']"
   ]
  },
  {
   "cell_type": "code",
   "execution_count": 36,
   "metadata": {},
   "outputs": [
    {
     "data": {
      "text/plain": [
       "array([u'male', u'male', u'female', u'female', u'male', u'male', u'female',\n",
       "       u'female', u'female', u'male', u'male'], dtype=object)"
      ]
     },
     "execution_count": 36,
     "metadata": {},
     "output_type": "execute_result"
    }
   ],
   "source": [
    "# The 'answer' data is now in an array\n",
    "Y"
   ]
  },
  {
   "cell_type": "code",
   "execution_count": 37,
   "metadata": {
    "collapsed": true
   },
   "outputs": [],
   "source": [
    "# Assign the rest of the values to the X variable array\n",
    "X = ShoeData.values "
   ]
  },
  {
   "cell_type": "code",
   "execution_count": 38,
   "metadata": {},
   "outputs": [
    {
     "data": {
      "text/plain": [
       "array([[181,  80,  44],\n",
       "       [177,  70,  43],\n",
       "       [160,  60,  38],\n",
       "       [154,  54,  37],\n",
       "       [166,  65,  40],\n",
       "       [190,  90,  47],\n",
       "       [175,  64,  39],\n",
       "       [177,  70,  40],\n",
       "       [159,  55,  37],\n",
       "       [171,  75,  42],\n",
       "       [181,  85,  43]])"
      ]
     },
     "execution_count": 38,
     "metadata": {},
     "output_type": "execute_result"
    }
   ],
   "source": [
    "# Array of heights, weights and shoe sizes\n",
    "X"
   ]
  },
  {
   "cell_type": "markdown",
   "metadata": {},
   "source": [
    "## Machine learning models\n",
    "\n",
    "* Logistic Regression\n",
    "* Decision Tree\n",
    "* Support Vector Machine"
   ]
  },
  {
   "cell_type": "markdown",
   "metadata": {},
   "source": [
    "## Logistic Regression"
   ]
  },
  {
   "cell_type": "markdown",
   "metadata": {},
   "source": [
    "Logistic regression was created by David Cox in 1958 (https://www.jstor.org/stable/2983890) and is a regression model where the response variable is a binary \"0,1\" classification, such as Fraud/NotFraud, Sick/NotSick.  "
   ]
  },
  {
   "cell_type": "code",
   "execution_count": 39,
   "metadata": {
    "collapsed": true
   },
   "outputs": [],
   "source": [
    "# Instantiate logistic regression model\n",
    "clf = LogisticRegression()"
   ]
  },
  {
   "cell_type": "code",
   "execution_count": 40,
   "metadata": {},
   "outputs": [
    {
     "name": "stdout",
     "output_type": "stream",
     "text": [
      "The prediction of a heigh of 190 cm, a weight of 70 kg \n",
      "and a shoe size of 43 yields a classification as a: [u'female']\n"
     ]
    }
   ],
   "source": [
    "# Fit the logistic regression model to the X and Y data \n",
    "clf.fit(X, Y)\n",
    "\n",
    "# Now, make a prediction using by putting in Height, Weight and Shoe size  variables\n",
    "predictionLog = clf.predict([[190, 70, 43]])\n",
    "\n",
    "print '''The prediction of a heigh of 190 cm, a weight of 70 kg \n",
    "and a shoe size of 43 yields a classification as a: %s''' % predictionLog"
   ]
  },
  {
   "cell_type": "code",
   "execution_count": 41,
   "metadata": {},
   "outputs": [
    {
     "name": "stdout",
     "output_type": "stream",
     "text": [
      "Height      -0.439204\n",
      "Weight       0.622762\n",
      "Shoe_size    0.829036\n",
      "dtype: float64\n"
     ]
    }
   ],
   "source": [
    "# Now, we want to interpret the model to see why a given prediction was made\n",
    "\n",
    "# We assign the coefficients of the model and and the feature names to a pandas series object, \n",
    "# essentially a variable, called weights\n",
    "weights = pd.Series(clf.coef_[0],\n",
    "                    index=ShoeData.columns)\n",
    "\n",
    "# View the output of weights \n",
    "print weights"
   ]
  },
  {
   "cell_type": "code",
   "execution_count": 42,
   "metadata": {},
   "outputs": [
    {
     "data": {
      "text/plain": [
       "<matplotlib.axes._subplots.AxesSubplot at 0x1186a03d0>"
      ]
     },
     "execution_count": 42,
     "metadata": {},
     "output_type": "execute_result"
    },
    {
     "data": {
      "image/png": "[encoded data removed]",
      "text/plain": [
       "<matplotlib.figure.Figure at 0x11861cdd0>"
      ]
     },
     "metadata": {},
     "output_type": "display_data"
    }
   ],
   "source": [
    "# To help visualize the results, we will plot the weights. We can see that shoe size is the variable, 'feature', \n",
    "# that is weighted the most\n",
    "weights.plot(kind='bar',title = 'Logistic Regression Shoe Size Model Review')"
   ]
  },
  {
   "cell_type": "markdown",
   "metadata": {},
   "source": [
    "## Decision Tree"
   ]
  },
  {
   "cell_type": "markdown",
   "metadata": {},
   "source": [
    "A Decision Tree, in machine learning, is a classifier that creates a path to an outcome based on several input variables. Each \"leaf\" represents an output given teh specific input variable values. Decision Trees are arguably one of most comprehensible models in machine learning and when combined in massive \"forests\",  can be a very effective algorithm.  "
   ]
  },
  {
   "cell_type": "code",
   "execution_count": 43,
   "metadata": {
    "collapsed": true
   },
   "outputs": [],
   "source": [
    "# Instantiate Decision Tree model\n",
    "TreeClf = tree.DecisionTreeClassifier()"
   ]
  },
  {
   "cell_type": "code",
   "execution_count": 44,
   "metadata": {},
   "outputs": [
    {
     "name": "stdout",
     "output_type": "stream",
     "text": [
      "The prediction of a heigh of 190 cm, a weight of 70 kg \n",
      "and a shoe size of 43 yields a classification as a: [u'male']\n"
     ]
    }
   ],
   "source": [
    "# Fit the decision tree model to the X and Y data \n",
    "TreeClf.fit(X, Y)\n",
    "\n",
    "# Now, make a prediction using by putting in Height, Weight and Shoe size  variables\n",
    "predictionTree = TreeClf.predict([[190, 70, 43]])\n",
    "\n",
    "print '''The prediction of a heigh of 190 cm, a weight of 70 kg \n",
    "and a shoe size of 43 yields a classification as a: %s''' % predictionTree"
   ]
  },
  {
   "cell_type": "code",
   "execution_count": 45,
   "metadata": {
    "collapsed": true
   },
   "outputs": [],
   "source": [
    "# Now, we will construct a decision tree showing how the model comes to conclusions. The decision tree is \n",
    "# outputed to a file called 'tree.dot' which is turned into an image at http://www.webgraphviz.com/. The website was found\n",
    "# courtesy of StackOverFlow, http://stackoverflow.com/questions/1494492/graphviz-how-to-go-from-dot-to-a-graph\n",
    "dot_data = tree.export_graphviz(TreeClf, feature_names=ShoeData.columns,  class_names = ShoeData.columns,\n",
    "                          out_file='tree.dot') "
   ]
  },
  {
   "cell_type": "markdown",
   "metadata": {
    "collapsed": true
   },
   "source": [
    "A screenshot was taken of the tree and can be seen below:\n",
    "\n",
    "<img src=\"ClassificationTree.png\" alt=\"Tree\" style=\"width: 300px;\"/>\n"
   ]
  },
  {
   "cell_type": "markdown",
   "metadata": {},
   "source": [
    "## Support Vector Machines"
   ]
  },
  {
   "cell_type": "markdown",
   "metadata": {},
   "source": [
    "One of the more complicated machine learning models, aside from deep learning, which is a topic for another time, Support Vector Machines essentially draw a line, which does not have to be linear(straight), in-between classes to maximize the space between. The imaginary \"support lines\" that touch the closest classes are called the \"support vectors\", and the imaginary three lines, the support vectors and the bisecting line are called a hyperplane. The hyperplane is always drawn in one less dimension than the number of variables, so n-1, which along with the crazy math that accompany this algorithm, make it difficult to conceptuialize.   \n",
    "\n",
    "<img src=\"https://upload.wikimedia.org/wikipedia/commons/2/2a/Svm_max_sep_hyperplane_with_margin.png\" alt=\"SVM\" style=\"width: 500px;\"/>\n",
    "\n",
    "\"Maximum-margin hyperplane and margins for an SVM trained with samples from two classes. Samples on the margin are called the support vectors\" https://en.wikipedia.org/wiki/Support_vector_machine#/media/File:Svm_max_sep_hyperplane_with_margin.png"
   ]
  },
  {
   "cell_type": "code",
   "execution_count": 46,
   "metadata": {
    "collapsed": true
   },
   "outputs": [],
   "source": [
    "# Instantiate Support Vector model\n",
    "svm_clf = svm.SVC()"
   ]
  },
  {
   "cell_type": "code",
   "execution_count": 47,
   "metadata": {},
   "outputs": [
    {
     "name": "stdout",
     "output_type": "stream",
     "text": [
      "The prediction of a heigh of 190 cm, a weight of 70 kg \n",
      "and a shoe size of 43 yields a classification as a: [u'male']\n"
     ]
    }
   ],
   "source": [
    "# Fit the decision tree model to the X and Y data \n",
    "svm_clf.fit(X, Y)\n",
    "\n",
    "# Now, make a prediction using by putting in Height, Weight and Shoe size  variables\n",
    "predictionSVM = svm_clf.predict([[190, 70, 43]])\n",
    "\n",
    "print '''The prediction of a heigh of 190 cm, a weight of 70 kg \n",
    "and a shoe size of 43 yields a classification as a: %s''' % predictionSVM"
   ]
  },
  {
   "cell_type": "code",
   "execution_count": 48,
   "metadata": {},
   "outputs": [
    {
     "name": "stdout",
     "output_type": "stream",
     "text": [
      "(11, 3)\n",
      "(11,)\n",
      "[5 6]\n"
     ]
    }
   ],
   "source": [
    "# Now we begin to run into the problem of interpretability, being able to explain why a given prediction was made. \n",
    "# For nonlinear, non-monotonic functions, such as support vector machines, we cannot, currently, explain exactly why\n",
    "# a given prediciton was made. It is an area of current research however. \n",
    "\n",
    "# look at the support vectors\n",
    "print(svm_clf.support_vectors_.shape)\n",
    "print(svm_clf.support_.shape)\n",
    "print(svm_clf.n_support_ )"
   ]
  },
  {
   "cell_type": "markdown",
   "metadata": {},
   "source": [
    "# Conclusion\n",
    "\n",
    "This was a rough and tumble introduction to three common machine learning algorithms. Stay tuned for more notebooks and feel free to send me a note at brassatc@icloud.com if you have any questions or comments. \n",
    "\n",
    "Thanks! -Andrew"
   ]
  }
 ],
 "metadata": {
  "anaconda-cloud": {},
  "kernelspec": {
   "display_name": "Python [default]",
   "language": "python",
   "name": "python2"
  },
  "language_info": {
   "codemirror_mode": {
    "name": "ipython",
    "version": 2
   },
   "file_extension": ".py",
   "mimetype": "text/x-python",
   "name": "python",
   "nbconvert_exporter": "python",
   "pygments_lexer": "ipython2",
   "version": "2.7.12"
  }
 },
 "nbformat": 4,
 "nbformat_minor": 2
}
