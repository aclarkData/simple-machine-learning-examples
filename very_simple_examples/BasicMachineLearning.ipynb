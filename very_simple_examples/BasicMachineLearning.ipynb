{
 "cells": [
  {
   "cell_type": "code",
   "execution_count": 15,
   "metadata": {
    "collapsed": true
   },
   "outputs": [],
   "source": [
    "# Import libraries\n",
    "import pandas as pd\n",
    "import numpy as np\n",
    "from sklearn.linear_model import LogisticRegression"
   ]
  },
  {
   "cell_type": "code",
   "execution_count": null,
   "metadata": {
    "collapsed": true
   },
   "outputs": [],
   "source": [
    "#import data\n",
    "ShoeData = pd.read_excel('SampleMLData.xlsx')"
   ]
  },
  {
   "cell_type": "code",
   "execution_count": 3,
   "metadata": {
    "collapsed": false
   },
   "outputs": [],
   "source": [
    "# review data\n",
    "ShoeData.head()\n",
    "\n",
    "del ShoeData['Unnamed: 4']"
   ]
  },
  {
   "cell_type": "code",
   "execution_count": 6,
   "metadata": {
    "collapsed": false
   },
   "outputs": [],
   "source": [
    "# Instantiate model\n",
    "neigh = LogisticRegression()"
   ]
  },
  {
   "cell_type": "code",
   "execution_count": 11,
   "metadata": {
    "collapsed": false
   },
   "outputs": [
    {
     "name": "stdout",
     "output_type": "stream",
     "text": [
      "[u'female']\n"
     ]
    }
   ],
   "source": [
    "Y = ShoeData['Classification'].values\n",
    "\n",
    "del ShoeData['Classification']\n",
    "\n",
    "X = ShoeData.values\n",
    "\n",
    "neigh.fit(X, Y)\n",
    "\n",
    "prediction = neigh.predict([[190, 70, 43]])\n",
    "\n",
    "print prediction"
   ]
  },
  {
   "cell_type": "code",
   "execution_count": 33,
   "metadata": {
    "collapsed": false
   },
   "outputs": [
    {
     "data": {
      "text/plain": [
       "Height      -0.439204\n",
       "Weight       0.622762\n",
       "Shoe_size    0.829036\n",
       "dtype: float64"
      ]
     },
     "execution_count": 33,
     "metadata": {},
     "output_type": "execute_result"
    }
   ],
   "source": [
    "weights = pd.Series(neigh.coef_[0],\n",
    "                    index=ShoeData.columns)\n",
    "\n",
    "weights"
   ]
  },
  {
   "cell_type": "code",
   "execution_count": 27,
   "metadata": {
    "collapsed": false
   },
   "outputs": [
    {
     "data": {
      "text/plain": [
       "Height      -0.439204\n",
       "Weight       0.622762\n",
       "Shoe_size    0.829036\n",
       "dtype: float64"
      ]
     },
     "execution_count": 27,
     "metadata": {},
     "output_type": "execute_result"
    }
   ],
   "source": [
    "# now let's make a pandas Series with the names and values, and plot them\n",
    "from matplotlib import pyplot as plt\n",
    "%matplotlib inline\n",
    "plt.style.use('ggplot')\n",
    "\n",
    "\n",
    "weights = pd.Series(lr_clf.coef_[0],index=df_imputed.columns)\n",
    "weights.plot(kind='bar')\n",
    "plt.show()"
   ]
  },
  {
   "cell_type": "markdown",
   "metadata": {},
   "source": [
    "from fairml import audit_model\n",
    "from fairml import plot_generic_dependence_dictionary"
   ]
  },
  {
   "cell_type": "markdown",
   "metadata": {},
   "source": [
    "#  call audit model with model\n",
    "total, _ = audit_model(clf.predict, propublica_data)\n",
    "\n",
    "# print feature importance\n",
    "print(total)\n",
    "\n",
    "# generate feature dependence plot\n",
    "fig = plot_dependencies(\n",
    "    total.get_compress_dictionary_into_key_median(),\n",
    "    reverse_values=False,\n",
    "    title=\"FairML feature dependence\"\n",
    ")\n",
    "plt.savefig(\"fairml_ldp.eps\", transparent=False, bbox_inches='tight')"
   ]
  }
 ],
 "metadata": {
  "kernelspec": {
   "display_name": "Python 2",
   "language": "python",
   "name": "python2"
  },
  "language_info": {
   "codemirror_mode": {
    "name": "ipython",
    "version": 2
   },
   "file_extension": ".py",
   "mimetype": "text/x-python",
   "name": "python",
   "nbconvert_exporter": "python",
   "pygments_lexer": "ipython2",
   "version": "2.7.13"
  }
 },
 "nbformat": 4,
 "nbformat_minor": 2
}
